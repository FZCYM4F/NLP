{
 "cells": [
  {
   "cell_type": "code",
   "id": "initial_id",
   "metadata": {
    "collapsed": true,
    "ExecuteTime": {
     "end_time": "2025-02-23T18:13:31.347048Z",
     "start_time": "2025-02-23T18:13:31.344608Z"
    }
   },
   "source": "import re",
   "outputs": [],
   "execution_count": 3
  },
  {
   "metadata": {
    "ExecuteTime": {
     "end_time": "2025-02-19T16:22:02.321931Z",
     "start_time": "2025-02-19T16:22:02.302933Z"
    }
   },
   "cell_type": "code",
   "source": [
    "txt = \"The rain in Spain\"\n",
    "x = re.findall(r\"\\b\\w\", txt)\n",
    "print(x)"
   ],
   "id": "32bce029ba9e530f",
   "outputs": [
    {
     "name": "stdout",
     "output_type": "stream",
     "text": [
      "['T', 'r', 'i', 'S']\n"
     ]
    }
   ],
   "execution_count": 47
  },
  {
   "metadata": {
    "ExecuteTime": {
     "end_time": "2025-02-19T16:53:51.267460Z",
     "start_time": "2025-02-19T16:53:51.254836Z"
    }
   },
   "cell_type": "code",
   "source": [
    "text = \"12,345,678,901\"\n",
    "\n",
    "match = re.search(r\"\\d{1,3},(\\d{3},)*\\d{3}\", text)\n",
    "print(match.group(0))"
   ],
   "id": "afbe772904458d27",
   "outputs": [
    {
     "name": "stdout",
     "output_type": "stream",
     "text": [
      "12,345,678,901\n"
     ]
    }
   ],
   "execution_count": 65
  },
  {
   "metadata": {
    "ExecuteTime": {
     "end_time": "2025-02-21T15:29:47.474525Z",
     "start_time": "2025-02-21T15:29:47.466346Z"
    }
   },
   "cell_type": "code",
   "source": [
    "text = \"#covid #machine-learning #1123ACB\"\n",
    "Pattern_hashtag =r\"#[\\w-]*\"\n",
    "match = re.findall(Pattern_hashtag, text)\n",
    "print(match)"
   ],
   "id": "5838fe182265015e",
   "outputs": [
    {
     "name": "stdout",
     "output_type": "stream",
     "text": [
      "['#covid', '#machine-learning', '#1123ACB']\n"
     ]
    }
   ],
   "execution_count": 69
  },
  {
   "metadata": {
    "ExecuteTime": {
     "end_time": "2025-02-21T15:39:57.825478Z",
     "start_time": "2025-02-21T15:39:57.819309Z"
    }
   },
   "cell_type": "code",
   "source": [
    "text = \"AA9A 9AA  A9A 9AA \tA9 9AA \tA99 9AA \tAA9 9AA  AA99 9AA\"\n",
    "Pattern_postcode =r\"[A-Z]{1,2}\\d{1,2}[A-Z]?\\s\\d{1}[A-Z]{2}\"\n",
    "match = re.findall(Pattern_postcode, text)\n",
    "print(match)"
   ],
   "id": "28724c686faad606",
   "outputs": [
    {
     "name": "stdout",
     "output_type": "stream",
     "text": [
      "['AA9A 9AA', 'A9A 9AA', 'A9 9AA', 'A99 9AA', 'AA9 9AA', 'AA99 9AA']\n"
     ]
    }
   ],
   "execution_count": 72
  },
  {
   "metadata": {
    "ExecuteTime": {
     "end_time": "2025-02-21T17:26:25.830258Z",
     "start_time": "2025-02-21T17:26:25.815509Z"
    }
   },
   "cell_type": "code",
   "source": [
    "text = \"023 80591234 or 02380 590000 or # +44 (0) 23 80594479 or # +44 (23) 8059 5000 or # 07722 175921. 13897252776\\n covid19 +44 (113) 222 3400\\n\"\n",
    "# Pattern_number =r\"\\b(?:\\+44\\s?\\(0?\\d{2,4}\\)\\s?|\\b0\\d{2,4}\\b)\\s\\d{3,4}\\s\\d{3,4}\\b\"\n",
    "Pattern_number =r\"(?:(?:\\+44\\s(?:\\(0\\)|\\(\\d+\\))\\s)\\d+\\s\\d+)|(?:0\\d+\\s\\d+(?:\\s\\d+)?)\"\n",
    "match = re.findall(Pattern_number, text)\n",
    "print(match)"
   ],
   "id": "4e9ab591b288b766",
   "outputs": [
    {
     "name": "stdout",
     "output_type": "stream",
     "text": [
      "['023 80591234', '02380 590000', '+44 (0) 23 80594479', '+44 (23) 8059 5000', '07722 175921', '+44 (113) 222 3400']\n"
     ]
    }
   ],
   "execution_count": 153
  },
  {
   "metadata": {
    "ExecuteTime": {
     "end_time": "2025-02-21T16:18:17.770038Z",
     "start_time": "2025-02-21T16:18:17.760960Z"
    }
   },
   "cell_type": "code",
   "source": [
    "text = \"# http://google.com/ or https://a.b.net/c/d/e.php#fragment.\"\n",
    "Pattern_URLs =r\"https?:\\/\\/[a-zA-Z0-9.-/#]+\"\n",
    "match = re.findall(Pattern_URLs, text)\n",
    "print(match)"
   ],
   "id": "adee001dd2c92b4c",
   "outputs": [
    {
     "name": "stdout",
     "output_type": "stream",
     "text": [
      "['http://google.com/', 'https://a.b.net/c/d/e.php#fragment.']\n"
     ]
    }
   ],
   "execution_count": 99
  },
  {
   "metadata": {
    "ExecuteTime": {
     "end_time": "2025-02-23T18:12:17.968822Z",
     "start_time": "2025-02-23T18:12:17.471603Z"
    }
   },
   "cell_type": "code",
   "source": [
    "text = \"j.williams@soton.ac.uk\"\n",
    "Pattern_email =r\"([a-zA-Z0-9.]+)@([a-zA-Z.-]+\\.[a-zA-Z]{2,})\"\n",
    "match = re.finditer(Pattern_email, text)\n",
    "for m in match:\n",
    "    print(m.group(0))\n",
    "    print(m.group(1))\n",
    "    print(m.group(2))"
   ],
   "id": "96dd2c8cd4058afe",
   "outputs": [
    {
     "ename": "NameError",
     "evalue": "name 're' is not defined",
     "output_type": "error",
     "traceback": [
      "\u001B[1;31m---------------------------------------------------------------------------\u001B[0m",
      "\u001B[1;31mNameError\u001B[0m                                 Traceback (most recent call last)",
      "Cell \u001B[1;32mIn[1], line 3\u001B[0m\n\u001B[0;32m      1\u001B[0m text \u001B[38;5;241m=\u001B[39m \u001B[38;5;124m\"\u001B[39m\u001B[38;5;124mj.williams@soton.ac.uk\u001B[39m\u001B[38;5;124m\"\u001B[39m\n\u001B[0;32m      2\u001B[0m Pattern_email \u001B[38;5;241m=\u001B[39m\u001B[38;5;124mr\u001B[39m\u001B[38;5;124m\"\u001B[39m\u001B[38;5;124m([a-zA-Z0-9.]+)@([a-zA-Z.-]+\u001B[39m\u001B[38;5;124m\\\u001B[39m\u001B[38;5;124m.[a-zA-Z]\u001B[39m\u001B[38;5;124m{\u001B[39m\u001B[38;5;124m2,})\u001B[39m\u001B[38;5;124m\"\u001B[39m\n\u001B[1;32m----> 3\u001B[0m match \u001B[38;5;241m=\u001B[39m re\u001B[38;5;241m.\u001B[39mfinditer(Pattern_email, text)\n\u001B[0;32m      4\u001B[0m \u001B[38;5;28;01mfor\u001B[39;00m m \u001B[38;5;129;01min\u001B[39;00m match:\n\u001B[0;32m      5\u001B[0m     \u001B[38;5;28mprint\u001B[39m(m\u001B[38;5;241m.\u001B[39mgroup(\u001B[38;5;241m0\u001B[39m))\n",
      "\u001B[1;31mNameError\u001B[0m: name 're' is not defined"
     ]
    }
   ],
   "execution_count": 1
  },
  {
   "metadata": {
    "ExecuteTime": {
     "end_time": "2025-02-23T22:19:38.885215Z",
     "start_time": "2025-02-23T22:19:38.881269Z"
    }
   },
   "cell_type": "code",
   "source": [
    "text = \"07:30 am 12:59PM 10:15 pm  不会匹配 25:30 PM（无效时间） 3:45 PM（缺少前导零）09:17pm 12:45 AM 23:59PM（⚠️ 但是 24 小时制下 23:59PM 不是标准格式） 存在的问题 27:30 PM（27 不是有效小时） 00:15 am（00 在 12 小时制不常见，通常写 12:15 AM）3:45pm（不匹配，因为小时部分必须是两位数）1004am\"\n",
    "Pattern_time = r\"(?:0[0-9]|1[0-9]|2[0-4]|(?<=\\D)[0-9]):[0-5][0-9]\\s?[pPaA][mM]\"\n",
    "match = re.findall(Pattern_time, text)\n",
    "print(match)"
   ],
   "id": "83595afd8adc1a58",
   "outputs": [
    {
     "name": "stdout",
     "output_type": "stream",
     "text": [
      "['07:30 am', '12:59PM', '10:15 pm', '3:45 PM', '09:17pm', '12:45 AM', '23:59PM', '23:59PM', '00:15 am', '12:15 AM', '3:45pm', '10:04am']\n"
     ]
    }
   ],
   "execution_count": 56
  },
  {
   "metadata": {
    "ExecuteTime": {
     "end_time": "2025-02-23T18:40:02.844861Z",
     "start_time": "2025-02-23T18:40:02.840740Z"
    }
   },
   "cell_type": "code",
   "source": [
    "text = \"Numbers: -12  47.2  74,832,101 56%\"\n",
    "Pattern_Number = r\"\\-?\\d+(?:,?(?:\\d{3},)*\\d{3})?(?:\\.\\d+)?\"               # numbers: -12 47.2\n",
    "match = re.findall(Pattern_Number, text)\n",
    "print(match)"
   ],
   "id": "2e1e30bc3f9f9a1e",
   "outputs": [
    {
     "name": "stdout",
     "output_type": "stream",
     "text": [
      "['-12', '47.2', '74,832,101', '56']\n"
     ]
    }
   ],
   "execution_count": 22
  },
  {
   "metadata": {
    "ExecuteTime": {
     "end_time": "2025-02-23T18:51:42.753117Z",
     "start_time": "2025-02-23T18:51:42.745576Z"
    }
   },
   "cell_type": "code",
   "source": [
    "text =\"The project cost £27.8m.  Apple's market value reached $2.5B last year.  A house in London costs around £750,000.  The startup raised €3.2bn in funding.  She bought a car for ¥2,000,000.  he company made a profit of $500K in Q1.  You can get a decent laptop for about $1,200.  His salary is ¥75,000 per month.  Bitcoin price surged to $0.25 today.  The budget for education was increased by €10M.  spent only £5 on lunch today.  A new phone costs around $899.99.  The total expenses this year were €4,300,000.  They invested £1.5bn in infrastructure.  \"\n",
    "Pattern_money =r\"[£$€¥]\\d+(?:,?(?:\\d{3},)*\\d{3})?(?:\\.\\d+)?[mbMBKk]?[bn]?\"\n",
    "match = re.findall(Pattern_money, text)\n",
    "print(match)"
   ],
   "id": "851195754096c04d",
   "outputs": [
    {
     "name": "stdout",
     "output_type": "stream",
     "text": [
      "['£27.8m', '$2.5B', '£750,000', '€3.2bn', '¥2,000,000', '$500K', '$1,200', '¥75,000', '$0.25', '€10M', '£5', '$899.99', '€4,300,000', '£1.5bn']\n"
     ]
    }
   ],
   "execution_count": 27
  },
  {
   "metadata": {
    "ExecuteTime": {
     "end_time": "2025-02-23T22:13:52.731194Z",
     "start_time": "2025-02-23T22:13:52.724025Z"
    }
   },
   "cell_type": "code",
   "source": [
    "import nltk\n",
    "\n",
    "text = \"Although the death rate from Covid-19 in the UK has fallen from its peak, there continue to be hundreds of deaths from the virus every week. The victims are young and old, and include people with underlying medical conditions and others without. Here are the stories of six people who died of the coronavirus in June, including frontline healthcare workers, a taxi driver and an 11-year-old child. \"\n",
    "pattern = r'''(?x)\t\t\t# set flag to allow verbose regexps\n",
    "\t (?:0[0-9]|1[0-9]|2[0-4]|(?<=\\D)[0-9]):[0-5][0-9]\\s?[pPaA][mM]    # Time\n",
    "\t | [£$€¥]\\d+(?:,?(?:\\d{3},)*\\d{3})?(?:\\.\\d+)?[mbMBKk]?[bn]?     # Money\n",
    "\t | \\-?\\d+(?:,?(?:\\d{3},)*\\d{3})?(?:\\.\\d+)?[mbMBKk]?[bn]?(?:cm|mm|m|km|in|ft|yd|mi)   # Length\n",
    "\t | (?:(?:\\+44\\s?(?:\\(0\\)|\\(\\d+\\))\\s?)\\d+\\s\\d+(?:\\s\\d+)?)|(?:0\\d+\\s\\d+(?:\\s\\d+)?)    # Phone\n",
    "\t | \\d+-year-old|\\d+\\s(?:years old|yrs old|y/o)   # Age\n",
    "\t | \\-?\\d+(?:,?(?:\\d{3},)*\\d{3})?(?:\\.\\d+)?\\s?%      # Percentage\n",
    "\t | \\-?\\d+(?:,?(?:\\d{3},)*\\d{3})?(?:\\.\\d+)?\\s?°?[CFK]    # Temperature\n",
    "\t | \\d+(?:,?(?:\\d{3},)*\\d{3})?(?:\\.\\d+)?(?:st|nd|rd|th)      # Ordinals\n",
    "\t | \\-?\\d+(?:,?(?:\\d{3},)*\\d{3})?(?:\\.\\d+)?      # numbers: -12 47.2 74,832,101\n",
    "\t '''\n",
    "tokens=nltk.regexp_tokenize(text, pattern)\n",
    "print(tokens)"
   ],
   "id": "e8d0964a12f7438e",
   "outputs": [
    {
     "name": "stdout",
     "output_type": "stream",
     "text": [
      "['-19', '11-year-old']\n"
     ]
    }
   ],
   "execution_count": 55
  },
  {
   "metadata": {
    "ExecuteTime": {
     "end_time": "2025-02-23T18:56:47.929282Z",
     "start_time": "2025-02-23T18:56:47.924009Z"
    }
   },
   "cell_type": "code",
   "source": [
    "text = \"The inflation rate rose by 14.4%. The discount is 10 %. The company reported -5% growth this year. A new study shows that 99.99% of participants agreed. The interest rate is 1,200.75%. He scored -0.5% on the test. The success rate was 85%. Only 0.01% of cases were reported. The company's profit increased by -12.3% in Q4.\"\n",
    "Pattern_Percentage = r\"\\-?\\d+(?:,?(?:\\d{3},)*\\d{3})?(?:\\.\\d+)?\\s?%\"\n",
    "match = re.findall(Pattern_Percentage, text)\n",
    "print(match)"
   ],
   "id": "2179716436ea5429",
   "outputs": [
    {
     "name": "stdout",
     "output_type": "stream",
     "text": [
      "['14.4%', '10 %', '-5%', '99.99%', '1,200.75%', '-0.5%', '85%', '0.01%', '-12.3%']\n"
     ]
    }
   ],
   "execution_count": 29
  },
  {
   "metadata": {
    "ExecuteTime": {
     "end_time": "2025-02-23T19:00:53.195286Z",
     "start_time": "2025-02-23T19:00:53.187266Z"
    }
   },
   "cell_type": "code",
   "source": [
    "text = \"The temperature today is 28C. In some regions, it drops to -10°F at night. Water boils at 100°C and freezes at 0°C. Scientists often use 273.15K as the standard temperature. The desert can reach 50C during the day. The experiment was conducted at 100.5 K. Yesterday it was -5°F, but today it's 10C.\"\n",
    "Pattern_Temperture = r\"\\-?\\d+(?:,?(?:\\d{3},)*\\d{3})?(?:\\.\\d+)?\\s?°?[CFK]\"\n",
    "match = re.findall(Pattern_Temperture, text)\n",
    "print(match)"
   ],
   "id": "71898c872c5656ce",
   "outputs": [
    {
     "name": "stdout",
     "output_type": "stream",
     "text": [
      "['28C', '-10°F', '100°C', '0°C', '273.15K', '50C', '100.5 K', '-5°F', '10C']\n"
     ]
    }
   ],
   "execution_count": 30
  },
  {
   "metadata": {
    "ExecuteTime": {
     "end_time": "2025-02-23T19:04:38.493878Z",
     "start_time": "2025-02-23T19:04:38.489611Z"
    }
   },
   "cell_type": "code",
   "source": [
    "text = \"He finished in 1st place. The 2nd runner-up received a prize. She ranked 3rd in the competition. It was the 4th time he won. The team secured the 22nd position. He was in 48th place out of 100. The 100th customer received a discount.18,333,444,555,666,777th\"\n",
    "Pattern_Ordinals = r\"\\d+(?:,?(?:\\d{3},)*\\d{3})?(?:\\.\\d+)?(?:st|nd|rd|th)\"\n",
    "match = re.findall(Pattern_Ordinals, text)\n",
    "print(match)"
   ],
   "id": "7f75ae4dbfcc61dd",
   "outputs": [
    {
     "name": "stdout",
     "output_type": "stream",
     "text": [
      "['1st', '2nd', '3rd', '4th', '22nd', '48th', '100th', '18,333,444,555,666,777th']\n"
     ]
    }
   ],
   "execution_count": 33
  },
  {
   "metadata": {},
   "cell_type": "code",
   "outputs": [],
   "execution_count": null,
   "source": "",
   "id": "e12f3ed0caf5ec1c"
  }
 ],
 "metadata": {
  "kernelspec": {
   "display_name": "Python 3",
   "language": "python",
   "name": "python3"
  },
  "language_info": {
   "codemirror_mode": {
    "name": "ipython",
    "version": 2
   },
   "file_extension": ".py",
   "mimetype": "text/x-python",
   "name": "python",
   "nbconvert_exporter": "python",
   "pygments_lexer": "ipython2",
   "version": "2.7.6"
  }
 },
 "nbformat": 4,
 "nbformat_minor": 5
}
