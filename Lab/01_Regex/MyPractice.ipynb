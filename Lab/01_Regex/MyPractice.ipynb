{
 "cells": [
  {
   "cell_type": "code",
   "id": "initial_id",
   "metadata": {
    "collapsed": true,
    "ExecuteTime": {
     "end_time": "2025-02-19T13:49:10.200510Z",
     "start_time": "2025-02-19T13:49:10.185631Z"
    }
   },
   "source": "import re",
   "outputs": [],
   "execution_count": 2
  },
  {
   "metadata": {
    "ExecuteTime": {
     "end_time": "2025-02-19T16:22:02.321931Z",
     "start_time": "2025-02-19T16:22:02.302933Z"
    }
   },
   "cell_type": "code",
   "source": [
    "txt = \"The rain in Spain\"\n",
    "x = re.findall(r\"\\b\\w\", txt)\n",
    "print(x)"
   ],
   "id": "32bce029ba9e530f",
   "outputs": [
    {
     "name": "stdout",
     "output_type": "stream",
     "text": [
      "['T', 'r', 'i', 'S']\n"
     ]
    }
   ],
   "execution_count": 47
  },
  {
   "metadata": {
    "ExecuteTime": {
     "end_time": "2025-02-19T16:53:51.267460Z",
     "start_time": "2025-02-19T16:53:51.254836Z"
    }
   },
   "cell_type": "code",
   "source": [
    "text = \"12,345,678,901\"\n",
    "\n",
    "match = re.search(r\"\\d{1,3},(\\d{3},)*\\d{3}\", text)\n",
    "print(match.group(0))"
   ],
   "id": "afbe772904458d27",
   "outputs": [
    {
     "name": "stdout",
     "output_type": "stream",
     "text": [
      "12,345,678,901\n"
     ]
    }
   ],
   "execution_count": 65
  },
  {
   "metadata": {
    "ExecuteTime": {
     "end_time": "2025-02-21T15:29:47.474525Z",
     "start_time": "2025-02-21T15:29:47.466346Z"
    }
   },
   "cell_type": "code",
   "source": [
    "text = \"#covid #machine-learning #1123ACB\"\n",
    "Pattern_hashtag =r\"#[\\w-]*\"\n",
    "match = re.findall(Pattern_hashtag, text)\n",
    "print(match)"
   ],
   "id": "5838fe182265015e",
   "outputs": [
    {
     "name": "stdout",
     "output_type": "stream",
     "text": [
      "['#covid', '#machine-learning', '#1123ACB']\n"
     ]
    }
   ],
   "execution_count": 69
  },
  {
   "metadata": {
    "ExecuteTime": {
     "end_time": "2025-02-21T15:39:57.825478Z",
     "start_time": "2025-02-21T15:39:57.819309Z"
    }
   },
   "cell_type": "code",
   "source": [
    "text = \"AA9A 9AA  A9A 9AA \tA9 9AA \tA99 9AA \tAA9 9AA  AA99 9AA\"\n",
    "Pattern_postcode =r\"[A-Z]{1,2}\\d{1,2}[A-Z]?\\s\\d{1}[A-Z]{2}\"\n",
    "match = re.findall(Pattern_postcode, text)\n",
    "print(match)"
   ],
   "id": "28724c686faad606",
   "outputs": [
    {
     "name": "stdout",
     "output_type": "stream",
     "text": [
      "['AA9A 9AA', 'A9A 9AA', 'A9 9AA', 'A99 9AA', 'AA9 9AA', 'AA99 9AA']\n"
     ]
    }
   ],
   "execution_count": 72
  },
  {
   "metadata": {
    "ExecuteTime": {
     "end_time": "2025-02-21T17:26:25.830258Z",
     "start_time": "2025-02-21T17:26:25.815509Z"
    }
   },
   "cell_type": "code",
   "source": [
    "text = \"023 80591234 or 02380 590000 or # +44 (0) 23 80594479 or # +44 (23) 8059 5000 or # 07722 175921. 13897252776\\n covid19 +44 (113) 222 3400\\n\"\n",
    "# Pattern_number =r\"\\b(?:\\+44\\s?\\(0?\\d{2,4}\\)\\s?|\\b0\\d{2,4}\\b)\\s\\d{3,4}\\s\\d{3,4}\\b\"\n",
    "Pattern_number =r\"(?:(?:\\+44\\s(?:\\(0\\)|\\(\\d+\\))\\s)\\d+\\s\\d+)|(?:0\\d+\\s\\d+(?:\\s\\d+)?)\"\n",
    "match = re.findall(Pattern_number, text)\n",
    "print(match)"
   ],
   "id": "4e9ab591b288b766",
   "outputs": [
    {
     "name": "stdout",
     "output_type": "stream",
     "text": [
      "['023 80591234', '02380 590000', '+44 (0) 23 80594479', '+44 (23) 8059 5000', '07722 175921', '+44 (113) 222 3400']\n"
     ]
    }
   ],
   "execution_count": 153
  },
  {
   "metadata": {
    "ExecuteTime": {
     "end_time": "2025-02-21T16:18:17.770038Z",
     "start_time": "2025-02-21T16:18:17.760960Z"
    }
   },
   "cell_type": "code",
   "source": [
    "text = \"# http://google.com/ or https://a.b.net/c/d/e.php#fragment.\"\n",
    "Pattern_URLs =r\"https?:\\/\\/[a-zA-Z0-9.-/#]+\"\n",
    "match = re.findall(Pattern_URLs, text)\n",
    "print(match)"
   ],
   "id": "adee001dd2c92b4c",
   "outputs": [
    {
     "name": "stdout",
     "output_type": "stream",
     "text": [
      "['http://google.com/', 'https://a.b.net/c/d/e.php#fragment.']\n"
     ]
    }
   ],
   "execution_count": 99
  },
  {
   "metadata": {
    "ExecuteTime": {
     "end_time": "2025-02-21T16:36:14.512604Z",
     "start_time": "2025-02-21T16:36:14.496418Z"
    }
   },
   "cell_type": "code",
   "source": [
    "text = \"j.williams@soton.ac.uk\"\n",
    "Pattern_email =r\"([a-zA-Z0-9.]+)@([a-zA-Z.-]+\\.[a-zA-Z]{2,})\"\n",
    "match = re.finditer(Pattern_email, text)\n",
    "for m in match:\n",
    "    print(m.group(0))\n",
    "    print(m.group(1))\n",
    "    print(m.group(2))"
   ],
   "id": "96dd2c8cd4058afe",
   "outputs": [
    {
     "name": "stdout",
     "output_type": "stream",
     "text": [
      "j.williams@soton.ac.uk\n",
      "j.williams\n",
      "soton.ac.uk\n"
     ]
    }
   ],
   "execution_count": 113
  }
 ],
 "metadata": {
  "kernelspec": {
   "display_name": "Python 3",
   "language": "python",
   "name": "python3"
  },
  "language_info": {
   "codemirror_mode": {
    "name": "ipython",
    "version": 2
   },
   "file_extension": ".py",
   "mimetype": "text/x-python",
   "name": "python",
   "nbconvert_exporter": "python",
   "pygments_lexer": "ipython2",
   "version": "2.7.6"
  }
 },
 "nbformat": 4,
 "nbformat_minor": 5
}
